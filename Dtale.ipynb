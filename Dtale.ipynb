{
 "cells": [
  {
   "cell_type": "markdown",
   "metadata": {},
   "source": [
    "# Another Amazing Library for EDA- Dtale"
   ]
  },
  {
   "cell_type": "code",
   "execution_count": 1,
   "metadata": {},
   "outputs": [],
   "source": [
    "import seaborn as sns"
   ]
  },
  {
   "cell_type": "code",
   "execution_count": 2,
   "metadata": {},
   "outputs": [
    {
     "name": "stdout",
     "output_type": "stream",
     "text": [
      "['anagrams', 'anscombe', 'attention', 'brain_networks', 'car_crashes', 'diamonds', 'dots', 'exercise', 'flights', 'fmri', 'gammas', 'geyser', 'iris', 'mpg', 'penguins', 'planets', 'tips', 'titanic']\n"
     ]
    }
   ],
   "source": [
    "print(sns.get_dataset_names())"
   ]
  },
  {
   "cell_type": "code",
   "execution_count": 3,
   "metadata": {},
   "outputs": [],
   "source": [
    "df=sns.load_dataset('planets')"
   ]
  },
  {
   "cell_type": "code",
   "execution_count": 4,
   "metadata": {},
   "outputs": [
    {
     "data": {
      "text/html": [
       "<div>\n",
       "<style scoped>\n",
       "    .dataframe tbody tr th:only-of-type {\n",
       "        vertical-align: middle;\n",
       "    }\n",
       "\n",
       "    .dataframe tbody tr th {\n",
       "        vertical-align: top;\n",
       "    }\n",
       "\n",
       "    .dataframe thead th {\n",
       "        text-align: right;\n",
       "    }\n",
       "</style>\n",
       "<table border=\"1\" class=\"dataframe\">\n",
       "  <thead>\n",
       "    <tr style=\"text-align: right;\">\n",
       "      <th></th>\n",
       "      <th>method</th>\n",
       "      <th>number</th>\n",
       "      <th>orbital_period</th>\n",
       "      <th>mass</th>\n",
       "      <th>distance</th>\n",
       "      <th>year</th>\n",
       "    </tr>\n",
       "  </thead>\n",
       "  <tbody>\n",
       "    <tr>\n",
       "      <th>0</th>\n",
       "      <td>Radial Velocity</td>\n",
       "      <td>1</td>\n",
       "      <td>269.300</td>\n",
       "      <td>7.10</td>\n",
       "      <td>77.40</td>\n",
       "      <td>2006</td>\n",
       "    </tr>\n",
       "    <tr>\n",
       "      <th>1</th>\n",
       "      <td>Radial Velocity</td>\n",
       "      <td>1</td>\n",
       "      <td>874.774</td>\n",
       "      <td>2.21</td>\n",
       "      <td>56.95</td>\n",
       "      <td>2008</td>\n",
       "    </tr>\n",
       "    <tr>\n",
       "      <th>2</th>\n",
       "      <td>Radial Velocity</td>\n",
       "      <td>1</td>\n",
       "      <td>763.000</td>\n",
       "      <td>2.60</td>\n",
       "      <td>19.84</td>\n",
       "      <td>2011</td>\n",
       "    </tr>\n",
       "    <tr>\n",
       "      <th>3</th>\n",
       "      <td>Radial Velocity</td>\n",
       "      <td>1</td>\n",
       "      <td>326.030</td>\n",
       "      <td>19.40</td>\n",
       "      <td>110.62</td>\n",
       "      <td>2007</td>\n",
       "    </tr>\n",
       "    <tr>\n",
       "      <th>4</th>\n",
       "      <td>Radial Velocity</td>\n",
       "      <td>1</td>\n",
       "      <td>516.220</td>\n",
       "      <td>10.50</td>\n",
       "      <td>119.47</td>\n",
       "      <td>2009</td>\n",
       "    </tr>\n",
       "  </tbody>\n",
       "</table>\n",
       "</div>"
      ],
      "text/plain": [
       "            method  number  orbital_period   mass  distance  year\n",
       "0  Radial Velocity       1         269.300   7.10     77.40  2006\n",
       "1  Radial Velocity       1         874.774   2.21     56.95  2008\n",
       "2  Radial Velocity       1         763.000   2.60     19.84  2011\n",
       "3  Radial Velocity       1         326.030  19.40    110.62  2007\n",
       "4  Radial Velocity       1         516.220  10.50    119.47  2009"
      ]
     },
     "execution_count": 4,
     "metadata": {},
     "output_type": "execute_result"
    }
   ],
   "source": [
    "df.head()"
   ]
  },
  {
   "cell_type": "code",
   "execution_count": 6,
   "metadata": {},
   "outputs": [
    {
     "data": {
      "text/html": [
       "<div>\n",
       "<style scoped>\n",
       "    .dataframe tbody tr th:only-of-type {\n",
       "        vertical-align: middle;\n",
       "    }\n",
       "\n",
       "    .dataframe tbody tr th {\n",
       "        vertical-align: top;\n",
       "    }\n",
       "\n",
       "    .dataframe thead th {\n",
       "        text-align: right;\n",
       "    }\n",
       "</style>\n",
       "<table border=\"1\" class=\"dataframe\">\n",
       "  <thead>\n",
       "    <tr style=\"text-align: right;\">\n",
       "      <th></th>\n",
       "      <th>number</th>\n",
       "      <th>orbital_period</th>\n",
       "      <th>mass</th>\n",
       "      <th>distance</th>\n",
       "      <th>year</th>\n",
       "    </tr>\n",
       "  </thead>\n",
       "  <tbody>\n",
       "    <tr>\n",
       "      <th>count</th>\n",
       "      <td>1035.000000</td>\n",
       "      <td>992.000000</td>\n",
       "      <td>513.000000</td>\n",
       "      <td>808.000000</td>\n",
       "      <td>1035.000000</td>\n",
       "    </tr>\n",
       "    <tr>\n",
       "      <th>mean</th>\n",
       "      <td>1.785507</td>\n",
       "      <td>2002.917596</td>\n",
       "      <td>2.638161</td>\n",
       "      <td>264.069282</td>\n",
       "      <td>2009.070531</td>\n",
       "    </tr>\n",
       "    <tr>\n",
       "      <th>std</th>\n",
       "      <td>1.240976</td>\n",
       "      <td>26014.728304</td>\n",
       "      <td>3.818617</td>\n",
       "      <td>733.116493</td>\n",
       "      <td>3.972567</td>\n",
       "    </tr>\n",
       "    <tr>\n",
       "      <th>min</th>\n",
       "      <td>1.000000</td>\n",
       "      <td>0.090706</td>\n",
       "      <td>0.003600</td>\n",
       "      <td>1.350000</td>\n",
       "      <td>1989.000000</td>\n",
       "    </tr>\n",
       "    <tr>\n",
       "      <th>25%</th>\n",
       "      <td>1.000000</td>\n",
       "      <td>5.442540</td>\n",
       "      <td>0.229000</td>\n",
       "      <td>32.560000</td>\n",
       "      <td>2007.000000</td>\n",
       "    </tr>\n",
       "    <tr>\n",
       "      <th>50%</th>\n",
       "      <td>1.000000</td>\n",
       "      <td>39.979500</td>\n",
       "      <td>1.260000</td>\n",
       "      <td>55.250000</td>\n",
       "      <td>2010.000000</td>\n",
       "    </tr>\n",
       "    <tr>\n",
       "      <th>75%</th>\n",
       "      <td>2.000000</td>\n",
       "      <td>526.005000</td>\n",
       "      <td>3.040000</td>\n",
       "      <td>178.500000</td>\n",
       "      <td>2012.000000</td>\n",
       "    </tr>\n",
       "    <tr>\n",
       "      <th>max</th>\n",
       "      <td>7.000000</td>\n",
       "      <td>730000.000000</td>\n",
       "      <td>25.000000</td>\n",
       "      <td>8500.000000</td>\n",
       "      <td>2014.000000</td>\n",
       "    </tr>\n",
       "  </tbody>\n",
       "</table>\n",
       "</div>"
      ],
      "text/plain": [
       "            number  orbital_period        mass     distance         year\n",
       "count  1035.000000      992.000000  513.000000   808.000000  1035.000000\n",
       "mean      1.785507     2002.917596    2.638161   264.069282  2009.070531\n",
       "std       1.240976    26014.728304    3.818617   733.116493     3.972567\n",
       "min       1.000000        0.090706    0.003600     1.350000  1989.000000\n",
       "25%       1.000000        5.442540    0.229000    32.560000  2007.000000\n",
       "50%       1.000000       39.979500    1.260000    55.250000  2010.000000\n",
       "75%       2.000000      526.005000    3.040000   178.500000  2012.000000\n",
       "max       7.000000   730000.000000   25.000000  8500.000000  2014.000000"
      ]
     },
     "execution_count": 6,
     "metadata": {},
     "output_type": "execute_result"
    }
   ],
   "source": [
    "df.describe()"
   ]
  },
  {
   "cell_type": "code",
   "execution_count": 8,
   "metadata": {},
   "outputs": [],
   "source": [
    "import dtale"
   ]
  },
  {
   "cell_type": "code",
   "execution_count": 9,
   "metadata": {},
   "outputs": [
    {
     "data": {
      "text/html": [
       "\n",
       "        <iframe\n",
       "            width=\"100%\"\n",
       "            height=\"475\"\n",
       "            src=\"http://DESKTOP-IQHT0D9:40000/dtale/iframe/1\"\n",
       "            frameborder=\"0\"\n",
       "            allowfullscreen\n",
       "        ></iframe>\n",
       "        "
      ],
      "text/plain": [
       "<IPython.lib.display.IFrame at 0x2d05db9f3c8>"
      ]
     },
     "metadata": {},
     "output_type": "display_data"
    },
    {
     "data": {
      "text/plain": []
     },
     "execution_count": 9,
     "metadata": {},
     "output_type": "execute_result"
    },
    {
     "name": "stdout",
     "output_type": "stream",
     "text": [
      "{'metas': '<meta http-equiv=\"X-UA-Compatible\" content=\"IE=edge\">\\n      <meta charset=\"UTF-8\">', 'title': 'Dash', 'css': '<link rel=\"stylesheet\" href=\"/css/main.css\">\\n<link rel=\"stylesheet\" href=\"/css/dash.css\">\\n<link rel=\"stylesheet\" href=\"/css/github_fork.css\">', 'config': '<script id=\"_dash-config\" type=\"application/json\">{\"url_base_pathname\": null, \"requests_pathname_prefix\": \"/charts/\", \"ui\": false, \"props_check\": false, \"show_undo_redo\": false, \"suppress_callback_exceptions\": true, \"update_title\": \"Updating...\"}</script>', 'scripts': '<script src=\"/charts/_dash-component-suites/dash_renderer/polyfill@7.v1_8_2m1601034074.8.7.min.js\"></script>\\n<script src=\"/charts/_dash-component-suites/dash_renderer/react@16.v1_8_2m1601034074.13.0.min.js\"></script>\\n<script src=\"/charts/_dash-component-suites/dash_renderer/react-dom@16.v1_8_2m1601034074.13.0.min.js\"></script>\\n<script src=\"/charts/_dash-component-suites/dash_renderer/prop-types@15.v1_8_2m1601034074.7.2.min.js\"></script>\\n<script src=\"/dash/components_bundle.js\"></script>\\n<script src=\"/dash/custom_bundle.js\"></script>\\n<script src=\"/dist/base_styles_bundle.js\"></script>\\n<script src=\"/charts/_dash-component-suites/dash_html_components/dash_html_components.v1_1_1m1599150811.min.js\"></script>\\n<script src=\"/charts/_dash-component-suites/dash_bootstrap_components/_components/dash_bootstrap_components.v0_10_6m1601529969.min.js\"></script>\\n<script src=\"/charts/_dash-component-suites/dash_daq/async-colorpicker.v0_5_0m1587997219.js\"></script>\\n<script src=\"/charts/_dash-component-suites/dash_daq/async-slider.v0_5_0m1587997219.js\"></script>\\n<script src=\"/charts/_dash-component-suites/dash_daq/dash_daq.v0_5_0m1587997219.min.js\"></script>\\n<script src=\"/charts/_dash-component-suites/dash_colorscales/bundle.v0_0_4m1516149694.js\"></script>\\n<script src=\"/charts/_dash-component-suites/dash_core_components/async-datepicker.v1_12_1m1600287003.js\"></script>\\n<script src=\"/charts/_dash-component-suites/dash_core_components/async-dropdown.v1_12_1m1600287003.js\"></script>\\n<script src=\"/charts/_dash-component-suites/dash_core_components/async-graph.v1_12_1m1600287003.js\"></script>\\n<script src=\"/charts/_dash-component-suites/dash_core_components/async-highlight.v1_12_1m1600287003.js\"></script>\\n<script src=\"/charts/_dash-component-suites/dash_core_components/async-markdown.v1_12_1m1600287003.js\"></script>\\n<script src=\"/charts/_dash-component-suites/dash_core_components/async-slider.v1_12_1m1600287003.js\"></script>\\n<script src=\"/charts/_dash-component-suites/dash_core_components/async-upload.v1_12_1m1600287003.js\"></script>\\n<script src=\"/charts/_dash-component-suites/dash_core_components/dash_core_components.v1_12_1m1600287003.min.js\"></script>\\n<script src=\"/charts/_dash-component-suites/dash_core_components/dash_core_components-shared.v1_12_1m1600287003.js\"></script>\\n<script src=\"/charts/_dash-component-suites/dash_core_components/plotly.v1_12_1m1600287005.min.js\"></script>\\n<script src=\"/charts/_dash-component-suites/dash_renderer/dash_renderer.v1_8_2m1601034099.min.js\"></script>', 'app_entry': '\\n<div id=\"react-entry-point\">\\n    <div class=\"_dash-loading\">\\n        Loading...\\n    </div>\\n</div>\\n', 'favicon': '<link rel=\"icon\" type=\"image/x-icon\" href=\"/charts/_favicon.ico?v=1.16.2\">', 'renderer': '<script id=\"_dash-renderer\" type=\"application/javascript\">var renderer = new DashRenderer();</script>'}\n",
      "Exception on /charts/_dash-update-component [POST]\n",
      "Traceback (most recent call last):\n",
      "  File \"c:\\users\\sahil\\appdata\\local\\programs\\python\\python37\\lib\\site-packages\\flask\\app.py\", line 2447, in wsgi_app\n",
      "    response = self.full_dispatch_request()\n",
      "  File \"c:\\users\\sahil\\appdata\\local\\programs\\python\\python37\\lib\\site-packages\\flask\\app.py\", line 1952, in full_dispatch_request\n",
      "    rv = self.handle_user_exception(e)\n",
      "  File \"c:\\users\\sahil\\appdata\\local\\programs\\python\\python37\\lib\\site-packages\\flask\\app.py\", line 1821, in handle_user_exception\n",
      "    reraise(exc_type, exc_value, tb)\n",
      "  File \"c:\\users\\sahil\\appdata\\local\\programs\\python\\python37\\lib\\site-packages\\flask\\_compat.py\", line 39, in reraise\n",
      "    raise value\n",
      "  File \"c:\\users\\sahil\\appdata\\local\\programs\\python\\python37\\lib\\site-packages\\flask\\app.py\", line 1950, in full_dispatch_request\n",
      "    rv = self.dispatch_request()\n",
      "  File \"c:\\users\\sahil\\appdata\\local\\programs\\python\\python37\\lib\\site-packages\\flask\\app.py\", line 1936, in dispatch_request\n",
      "    return self.view_functions[rule.endpoint](**req.view_args)\n",
      "  File \"c:\\users\\sahil\\appdata\\local\\programs\\python\\python37\\lib\\site-packages\\dash\\dash.py\", line 1059, in dispatch\n",
      "    response.set_data(func(*args, outputs_list=outputs_list))\n",
      "  File \"c:\\users\\sahil\\appdata\\local\\programs\\python\\python37\\lib\\site-packages\\dash\\dash.py\", line 994, in add_context\n",
      "    output_value = func(*args, **kwargs)  # %% callback invoked %%\n",
      "  File \"c:\\users\\sahil\\appdata\\local\\programs\\python\\python37\\lib\\site-packages\\dtale\\dash_application\\views.py\", line 851, in group_values\n",
      "    group_vals = build_group_val_options(group_vals, group_cols)\n",
      "  File \"c:\\users\\sahil\\appdata\\local\\programs\\python\\python37\\lib\\site-packages\\dtale\\dash_application\\layout\\layout.py\", line 712, in build_group_val_options\n",
      "    group_vals = find_group_vals(df, group_cols)\n",
      "  File \"c:\\users\\sahil\\appdata\\local\\programs\\python\\python37\\lib\\site-packages\\dtale\\charts\\utils.py\", line 648, in find_group_vals\n",
      "    group_vals, _ = retrieve_chart_data(df, group_cols)\n",
      "  File \"c:\\users\\sahil\\appdata\\local\\programs\\python\\python37\\lib\\site-packages\\dtale\\charts\\utils.py\", line 245, in retrieve_chart_data\n",
      "    all_data = pd.concat(all_data, axis=1)\n",
      "  File \"c:\\users\\sahil\\appdata\\local\\programs\\python\\python37\\lib\\site-packages\\pandas\\core\\reshape\\concat.py\", line 284, in concat\n",
      "    sort=sort,\n",
      "  File \"c:\\users\\sahil\\appdata\\local\\programs\\python\\python37\\lib\\site-packages\\pandas\\core\\reshape\\concat.py\", line 331, in __init__\n",
      "    raise ValueError(\"No objects to concatenate\")\n",
      "ValueError: No objects to concatenate\n"
     ]
    },
    {
     "name": "stderr",
     "output_type": "stream",
     "text": [
      "2020-09-30 22:36:59,400 - ERROR    - Exception on /charts/_dash-update-component [POST]\n",
      "Traceback (most recent call last):\n",
      "  File \"c:\\users\\sahil\\appdata\\local\\programs\\python\\python37\\lib\\site-packages\\flask\\app.py\", line 2447, in wsgi_app\n",
      "    response = self.full_dispatch_request()\n",
      "  File \"c:\\users\\sahil\\appdata\\local\\programs\\python\\python37\\lib\\site-packages\\flask\\app.py\", line 1952, in full_dispatch_request\n",
      "    rv = self.handle_user_exception(e)\n",
      "  File \"c:\\users\\sahil\\appdata\\local\\programs\\python\\python37\\lib\\site-packages\\flask\\app.py\", line 1821, in handle_user_exception\n",
      "    reraise(exc_type, exc_value, tb)\n",
      "  File \"c:\\users\\sahil\\appdata\\local\\programs\\python\\python37\\lib\\site-packages\\flask\\_compat.py\", line 39, in reraise\n",
      "    raise value\n",
      "  File \"c:\\users\\sahil\\appdata\\local\\programs\\python\\python37\\lib\\site-packages\\flask\\app.py\", line 1950, in full_dispatch_request\n",
      "    rv = self.dispatch_request()\n",
      "  File \"c:\\users\\sahil\\appdata\\local\\programs\\python\\python37\\lib\\site-packages\\flask\\app.py\", line 1936, in dispatch_request\n",
      "    return self.view_functions[rule.endpoint](**req.view_args)\n",
      "  File \"c:\\users\\sahil\\appdata\\local\\programs\\python\\python37\\lib\\site-packages\\dash\\dash.py\", line 1059, in dispatch\n",
      "    response.set_data(func(*args, outputs_list=outputs_list))\n",
      "  File \"c:\\users\\sahil\\appdata\\local\\programs\\python\\python37\\lib\\site-packages\\dash\\dash.py\", line 994, in add_context\n",
      "    output_value = func(*args, **kwargs)  # %% callback invoked %%\n",
      "  File \"c:\\users\\sahil\\appdata\\local\\programs\\python\\python37\\lib\\site-packages\\dtale\\dash_application\\views.py\", line 851, in group_values\n",
      "    group_vals = build_group_val_options(group_vals, group_cols)\n",
      "  File \"c:\\users\\sahil\\appdata\\local\\programs\\python\\python37\\lib\\site-packages\\dtale\\dash_application\\layout\\layout.py\", line 712, in build_group_val_options\n",
      "    group_vals = find_group_vals(df, group_cols)\n",
      "  File \"c:\\users\\sahil\\appdata\\local\\programs\\python\\python37\\lib\\site-packages\\dtale\\charts\\utils.py\", line 648, in find_group_vals\n",
      "    group_vals, _ = retrieve_chart_data(df, group_cols)\n",
      "  File \"c:\\users\\sahil\\appdata\\local\\programs\\python\\python37\\lib\\site-packages\\dtale\\charts\\utils.py\", line 245, in retrieve_chart_data\n",
      "    all_data = pd.concat(all_data, axis=1)\n",
      "  File \"c:\\users\\sahil\\appdata\\local\\programs\\python\\python37\\lib\\site-packages\\pandas\\core\\reshape\\concat.py\", line 284, in concat\n",
      "    sort=sort,\n",
      "  File \"c:\\users\\sahil\\appdata\\local\\programs\\python\\python37\\lib\\site-packages\\pandas\\core\\reshape\\concat.py\", line 331, in __init__\n",
      "    raise ValueError(\"No objects to concatenate\")\n",
      "ValueError: No objects to concatenate\n"
     ]
    }
   ],
   "source": [
    "dtale.show(df)"
   ]
  },
  {
   "cell_type": "code",
   "execution_count": 10,
   "metadata": {},
   "outputs": [
    {
     "ename": "IndentationError",
     "evalue": "unexpected indent (<ipython-input-10-8d2f26b880b2>, line 22)",
     "output_type": "error",
     "traceback": [
      "\u001b[1;36m  File \u001b[1;32m\"<ipython-input-10-8d2f26b880b2>\"\u001b[1;36m, line \u001b[1;32m22\u001b[0m\n\u001b[1;33m    use the first one you've selected, 'number'\u001b[0m\n\u001b[1;37m    ^\u001b[0m\n\u001b[1;31mIndentationError\u001b[0m\u001b[1;31m:\u001b[0m unexpected indent\n"
     ]
    }
   ],
   "source": [
    "# DISCLAIMER: 'df' refers to the data you passed in when calling 'dtale.show'\n",
    "\n",
    "import pandas as pd\n",
    "\n",
    "if isinstance(df, (pd.DatetimeIndex, pd.MultiIndex)):\n",
    "\tdf = df.to_frame(index=False)\n",
    "\n",
    "# remove any pre-existing indices for ease of use in the D-Tale code, but this is not required\n",
    "df = df.reset_index().drop('index', axis=1, errors='ignore')\n",
    "df.columns = [str(c) for c in df.columns]  # update columns to strings in case they are numbers\n",
    "\n",
    "chart_data = pd.concat([\n",
    "\tdf['year'],\n",
    "\tdf['number'],\n",
    "\tdf['distance'],\n",
    "], axis=1)\n",
    "chart_data = chart_data.sort_values(['year'])\n",
    "chart_data = chart_data.rename(columns={'year': 'x'})\n",
    "chart_data = chart_data.groupby(['x'])[['number', 'distance']].count().reset_index()\n",
    "chart_data = chart_data.dropna()\n",
    "# WARNING: This is not taking into account all the y-axes you've specified.  For this example we'll\n",
    "           use the first one you've selected, 'number'\n",
    "chart_data = chart_data[chart_data['number'] > 0]  # can't represent negatives in a pie\n",
    "\n",
    "import plotly.graph_objs as go\n",
    "\n",
    "chart = go.Pie(labels=chart_data['x'], y=chart_data['number'], name='number')\n",
    "figure = go.Figure(data=[chart], layout=go.Layout({\n",
    "    'showlegend': False, 'title': {'text': 'number by year (Count)'}\n",
    "}))\n",
    "\n",
    "# If you're having trouble viewing your chart in your notebook try passing your 'chart' into this snippet:\n",
    "\n",
    "# from plotly.offline import iplot, init_notebook_mode\n",
    "\n",
    "# init_notebook_mode(connected=True)\n",
    "# chart.pop('id', None) # for some reason iplot does not like 'id'\n",
    "# iplot(chart)"
   ]
  },
  {
   "cell_type": "code",
   "execution_count": 12,
   "metadata": {},
   "outputs": [
    {
     "ename": "IndentationError",
     "evalue": "unexpected indent (<ipython-input-12-c8f0e5dc3962>, line 22)",
     "output_type": "error",
     "traceback": [
      "\u001b[1;36m  File \u001b[1;32m\"<ipython-input-12-c8f0e5dc3962>\"\u001b[1;36m, line \u001b[1;32m22\u001b[0m\n\u001b[1;33m    use the first one you've selected, 'number'\u001b[0m\n\u001b[1;37m    ^\u001b[0m\n\u001b[1;31mIndentationError\u001b[0m\u001b[1;31m:\u001b[0m unexpected indent\n"
     ]
    }
   ],
   "source": [
    "# DISCLAIMER: 'df' refers to the data you passed in when calling 'dtale.show'\n",
    "\n",
    "import pandas as pd\n",
    "\n",
    "if isinstance(df, (pd.DatetimeIndex, pd.MultiIndex)):\n",
    "\tdf = df.to_frame(index=False)\n",
    "\n",
    "# remove any pre-existing indices for ease of use in the D-Tale code, but this is not required\n",
    "df = df.reset_index().drop('index', axis=1, errors='ignore')\n",
    "df.columns = [str(c) for c in df.columns]  # update columns to strings in case they are numbers\n",
    "\n",
    "chart_data = pd.concat([\n",
    "\tdf['year'],\n",
    "\tdf['number'],\n",
    "\tdf['distance'],\n",
    "], axis=1)\n",
    "chart_data = chart_data.sort_values(['year'])\n",
    "chart_data = chart_data.rename(columns={'year': 'x'})\n",
    "chart_data = chart_data.groupby(['x'])[['number', 'distance']].count().reset_index()\n",
    "chart_data = chart_data.dropna()\n",
    "# WARNING: This is not taking into account all the y-axes you've specified.  For this example we'll\n",
    "           use the first one you've selected, 'number'\n",
    "chart_data = chart_data[chart_data['number'] > 0]  # can't represent negatives in a pie\n",
    "\n",
    "import plotly.graph_objs as go\n",
    "\n",
    "chart = go.Pie(labels=chart_data['x'], y=chart_data['number'], name='number')\n",
    "figure = go.Figure(data=[chart], layout=go.Layout({'showlegend': False, 'title': {'text': 'number by year (Count)'}\n",
    "}))\n",
    "\n",
    "# If you're having trouble viewing your chart in your notebook try passing your 'chart' into this snippet:\n",
    "\n",
    "# from plotly.offline import iplot, init_notebook_mode\n",
    "\n",
    "# init_notebook_mode(connected=True)\n",
    "# chart.pop('id', None) # for some reason iplot does not like 'id'\n",
    "# iplot(chart)"
   ]
  },
  {
   "cell_type": "code",
   "execution_count": 13,
   "metadata": {},
   "outputs": [
    {
     "ename": "IndentationError",
     "evalue": "unexpected indent (<ipython-input-13-fa539e866524>, line 22)",
     "output_type": "error",
     "traceback": [
      "\u001b[1;36m  File \u001b[1;32m\"<ipython-input-13-fa539e866524>\"\u001b[1;36m, line \u001b[1;32m22\u001b[0m\n\u001b[1;33m    use the first one you've selected, 'number'\u001b[0m\n\u001b[1;37m    ^\u001b[0m\n\u001b[1;31mIndentationError\u001b[0m\u001b[1;31m:\u001b[0m unexpected indent\n"
     ]
    }
   ],
   "source": [
    "\n",
    "# DISCLAIMER: 'df' refers to the data you passed in when calling 'dtale.show'\n",
    "\n",
    "import pandas as pd\n",
    "\n",
    "if isinstance(df, (pd.DatetimeIndex, pd.MultiIndex)):\n",
    "\tdf = df.to_frame(index=False)\n",
    "\n",
    "# remove any pre-existing indices for ease of use in the D-Tale code, but this is not required\n",
    "df = df.reset_index().drop('index', axis=1, errors='ignore')\n",
    "df.columns = [str(c) for c in df.columns]  # update columns to strings in case they are numbers\n",
    "\n",
    "chart_data = pd.concat([\n",
    "\tdf['year'],\n",
    "\tdf['number'],\n",
    "\tdf['distance'],\n",
    "], axis=1)\n",
    "chart_data = chart_data.sort_values(['year'])\n",
    "chart_data = chart_data.rename(columns={'year': 'x'})\n",
    "chart_data = chart_data.groupby(['x'])[['number', 'distance']].count().reset_index()\n",
    "chart_data = chart_data.dropna()\n",
    "# WARNING: This is not taking into account all the y-axes you've specified.  For this example we'll\n",
    "           use the first one you've selected, 'number'\n",
    "\n",
    "import plotly.graph_objs as go\n",
    "\n",
    "chart = go.Scattergl(\n",
    "\tx=chart_data['x'], y=chart_data['number'], , mode='markers', opacity=0.7, name='all',\n",
    "\tmarker={'size': 15, 'line': {'width': 0.5, 'color': 'white'}}\n",
    ")\n",
    "\n",
    "figure = go.Figure(data=[chart], layout=go.Layout({\n",
    "    'legend': {'orientation': 'h'},\n",
    "    'title': {'text': 'number, distance by year (Count)'},\n",
    "    'xaxis': {'tickformat': '.0f', 'title': {'text': 'year'}},\n",
    "    'yaxis': {'tickformat': '.0f', 'title': {'text': 'number (Count)'}}\n",
    "}))\n",
    "\n",
    "# If you're having trouble viewing your chart in your notebook try passing your 'chart' into this snippet:\n",
    "\n",
    "# from plotly.offline import iplot, init_notebook_mode\n",
    "\n",
    "# init_notebook_mode(connected=True)\n",
    "# chart.pop('id', None) # for some reason iplot does not like 'id'\n",
    "# iplot(chart)"
   ]
  },
  {
   "cell_type": "code",
   "execution_count": 14,
   "metadata": {},
   "outputs": [
    {
     "ename": "IndentationError",
     "evalue": "unexpected indent (<ipython-input-14-fa539e866524>, line 22)",
     "output_type": "error",
     "traceback": [
      "\u001b[1;36m  File \u001b[1;32m\"<ipython-input-14-fa539e866524>\"\u001b[1;36m, line \u001b[1;32m22\u001b[0m\n\u001b[1;33m    use the first one you've selected, 'number'\u001b[0m\n\u001b[1;37m    ^\u001b[0m\n\u001b[1;31mIndentationError\u001b[0m\u001b[1;31m:\u001b[0m unexpected indent\n"
     ]
    }
   ],
   "source": [
    "\n",
    "# DISCLAIMER: 'df' refers to the data you passed in when calling 'dtale.show'\n",
    "\n",
    "import pandas as pd\n",
    "\n",
    "if isinstance(df, (pd.DatetimeIndex, pd.MultiIndex)):\n",
    "\tdf = df.to_frame(index=False)\n",
    "\n",
    "# remove any pre-existing indices for ease of use in the D-Tale code, but this is not required\n",
    "df = df.reset_index().drop('index', axis=1, errors='ignore')\n",
    "df.columns = [str(c) for c in df.columns]  # update columns to strings in case they are numbers\n",
    "\n",
    "chart_data = pd.concat([\n",
    "\tdf['year'],\n",
    "\tdf['number'],\n",
    "\tdf['distance'],\n",
    "], axis=1)\n",
    "chart_data = chart_data.sort_values(['year'])\n",
    "chart_data = chart_data.rename(columns={'year': 'x'})\n",
    "chart_data = chart_data.groupby(['x'])[['number', 'distance']].count().reset_index()\n",
    "chart_data = chart_data.dropna()\n",
    "# WARNING: This is not taking into account all the y-axes you've specified.  For this example we'll\n",
    "           use the first one you've selected, 'number'\n",
    "\n",
    "import plotly.graph_objs as go\n",
    "\n",
    "chart = go.Scattergl(\n",
    "\tx=chart_data['x'], y=chart_data['number'], , mode='markers', opacity=0.7, name='all',\n",
    "\tmarker={'size': 15, 'line': {'width': 0.5, 'color': 'white'}}\n",
    ")\n",
    "\n",
    "figure = go.Figure(data=[chart], layout=go.Layout({\n",
    "    'legend': {'orientation': 'h'},\n",
    "    'title': {'text': 'number, distance by year (Count)'},\n",
    "    'xaxis': {'tickformat': '.0f', 'title': {'text': 'year'}},\n",
    "    'yaxis': {'tickformat': '.0f', 'title': {'text': 'number (Count)'}}\n",
    "}))\n",
    "\n",
    "# If you're having trouble viewing your chart in your notebook try passing your 'chart' into this snippet:\n",
    "\n",
    "# from plotly.offline import iplot, init_notebook_mode\n",
    "\n",
    "# init_notebook_mode(connected=True)\n",
    "# chart.pop('id', None) # for some reason iplot does not like 'id'\n",
    "# iplot(chart)"
   ]
  },
  {
   "cell_type": "code",
   "execution_count": null,
   "metadata": {},
   "outputs": [],
   "source": []
  }
 ],
 "metadata": {
  "kernelspec": {
   "display_name": "Python 3",
   "language": "python",
   "name": "python3"
  },
  "language_info": {
   "codemirror_mode": {
    "name": "ipython",
    "version": 3
   },
   "file_extension": ".py",
   "mimetype": "text/x-python",
   "name": "python",
   "nbconvert_exporter": "python",
   "pygments_lexer": "ipython3",
   "version": "3.7.8"
  }
 },
 "nbformat": 4,
 "nbformat_minor": 4
}
